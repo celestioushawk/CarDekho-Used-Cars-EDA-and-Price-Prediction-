{
 "cells": [
  {
   "cell_type": "markdown",
   "metadata": {
    "papermill": {
     "duration": 0.012907,
     "end_time": "2020-09-18T16:57:21.192813",
     "exception": false,
     "start_time": "2020-09-18T16:57:21.179906",
     "status": "completed"
    },
    "tags": []
   },
   "source": [
    "![](https://images.yourstory.com/cs/images/companies/logosC2481575977792883png)\n",
    "<img height=\"500\" width=\"500\">"
   ]
  },
  {
   "cell_type": "markdown",
   "metadata": {
    "papermill": {
     "duration": 0.011131,
     "end_time": "2020-09-18T16:57:21.215521",
     "exception": false,
     "start_time": "2020-09-18T16:57:21.204390",
     "status": "completed"
    },
    "tags": []
   },
   "source": [
    "Hi, In this kernel I ll be trying to predict selling prices of used cars using the dataset from **CarDekho** (Car buying and selling site).\n",
    "In this attempt, I ll be making use of the **Linear Regression, Decision Tree and Random Forest** models for prediction. I ll also be performing **Data Visualizations and Pre-processing** for categorical data using Label Encoding technique."
   ]
  },
  {
   "cell_type": "code",
   "execution_count": 1,
   "metadata": {
    "_cell_guid": "b1076dfc-b9ad-4769-8c92-a6c4dae69d19",
    "_uuid": "8f2839f25d086af736a60e9eeb907d3b93b6e0e5",
    "execution": {
     "iopub.execute_input": "2020-09-18T16:57:21.241960Z",
     "iopub.status.busy": "2020-09-18T16:57:21.241053Z",
     "iopub.status.idle": "2020-09-18T16:57:22.269159Z",
     "shell.execute_reply": "2020-09-18T16:57:22.269587Z"
    },
    "papermill": {
     "duration": 1.042649,
     "end_time": "2020-09-18T16:57:22.269748",
     "exception": false,
     "start_time": "2020-09-18T16:57:21.227099",
     "status": "completed"
    },
    "tags": []
   },
   "outputs": [
    {
     "name": "stdout",
     "output_type": "stream",
     "text": [
      "/kaggle/input/vehicle-dataset-from-cardekho/car data.csv\n",
      "/kaggle/input/vehicle-dataset-from-cardekho/CAR DETAILS FROM CAR DEKHO.csv\n"
     ]
    }
   ],
   "source": [
    "# This Python 3 environment comes with many helpful analytics libraries installed\n",
    "# It is defined by the kaggle/python Docker image: https://github.com/kaggle/docker-python\n",
    "# For example, here's several helpful packages to load\n",
    "\n",
    "import numpy as np # linear algebra\n",
    "import pandas as pd # data processing, CSV file I/O (e.g. pd.read_csv)\n",
    "import seaborn as sns\n",
    "import matplotlib.pyplot as plt\n",
    "%matplotlib inline\n",
    "\n",
    "# Input data files are available in the read-only \"../input/\" directory\n",
    "# For example, running this (by clicking run or pressing Shift+Enter) will list all files under the input directory\n",
    "\n",
    "import os\n",
    "for dirname, _, filenames in os.walk('/kaggle/input'):\n",
    "    for filename in filenames:\n",
    "        print(os.path.join(dirname, filename))\n",
    "\n",
    "# You can write up to 5GB to the current directory (/kaggle/working/) that gets preserved as output when you create a version using \"Save & Run All\" \n",
    "# You can also write temporary files to /kaggle/temp/, but they won't be saved outside of the current session"
   ]
  },
  {
   "cell_type": "code",
   "execution_count": 2,
   "metadata": {
    "_cell_guid": "79c7e3d0-c299-4dcb-8224-4455121ee9b0",
    "_uuid": "d629ff2d2480ee46fbb7e2d37f6b5fab8052498a",
    "execution": {
     "iopub.execute_input": "2020-09-18T16:57:22.301647Z",
     "iopub.status.busy": "2020-09-18T16:57:22.301054Z",
     "iopub.status.idle": "2020-09-18T16:57:22.323008Z",
     "shell.execute_reply": "2020-09-18T16:57:22.322489Z"
    },
    "papermill": {
     "duration": 0.040947,
     "end_time": "2020-09-18T16:57:22.323180",
     "exception": false,
     "start_time": "2020-09-18T16:57:22.282233",
     "status": "completed"
    },
    "tags": []
   },
   "outputs": [],
   "source": [
    "cars_filepath = \"../input/vehicle-dataset-from-cardekho/CAR DETAILS FROM CAR DEKHO.csv\"\n",
    "cars = pd.read_csv(cars_filepath)"
   ]
  },
  {
   "cell_type": "markdown",
   "metadata": {
    "papermill": {
     "duration": 0.011919,
     "end_time": "2020-09-18T16:57:22.347427",
     "exception": false,
     "start_time": "2020-09-18T16:57:22.335508",
     "status": "completed"
    },
    "tags": []
   },
   "source": [
    "**Exploratory Data Analysis**\n",
    "* Checking for number of rows and columns \n",
    "* Geting info of data\n",
    "* Checking for null values\n",
    "* Getting to know about the mean, and extreme value distribution of data"
   ]
  },
  {
   "cell_type": "code",
   "execution_count": 3,
   "metadata": {
    "execution": {
     "iopub.execute_input": "2020-09-18T16:57:22.378199Z",
     "iopub.status.busy": "2020-09-18T16:57:22.377547Z",
     "iopub.status.idle": "2020-09-18T16:57:22.380605Z",
     "shell.execute_reply": "2020-09-18T16:57:22.381024Z"
    },
    "papermill": {
     "duration": 0.021641,
     "end_time": "2020-09-18T16:57:22.381170",
     "exception": false,
     "start_time": "2020-09-18T16:57:22.359529",
     "status": "completed"
    },
    "tags": []
   },
   "outputs": [
    {
     "data": {
      "text/plain": [
       "Index(['name', 'year', 'selling_price', 'km_driven', 'fuel', 'seller_type',\n",
       "       'transmission', 'owner'],\n",
       "      dtype='object')"
      ]
     },
     "execution_count": 3,
     "metadata": {},
     "output_type": "execute_result"
    }
   ],
   "source": [
    "cars.columns"
   ]
  },
  {
   "cell_type": "code",
   "execution_count": 4,
   "metadata": {
    "execution": {
     "iopub.execute_input": "2020-09-18T16:57:22.409023Z",
     "iopub.status.busy": "2020-09-18T16:57:22.408515Z",
     "iopub.status.idle": "2020-09-18T16:57:22.412519Z",
     "shell.execute_reply": "2020-09-18T16:57:22.412926Z"
    },
    "papermill": {
     "duration": 0.019468,
     "end_time": "2020-09-18T16:57:22.413048",
     "exception": false,
     "start_time": "2020-09-18T16:57:22.393580",
     "status": "completed"
    },
    "tags": []
   },
   "outputs": [
    {
     "data": {
      "text/plain": [
       "(4340, 8)"
      ]
     },
     "execution_count": 4,
     "metadata": {},
     "output_type": "execute_result"
    }
   ],
   "source": [
    "cars.shape"
   ]
  },
  {
   "cell_type": "code",
   "execution_count": 5,
   "metadata": {
    "execution": {
     "iopub.execute_input": "2020-09-18T16:57:22.442546Z",
     "iopub.status.busy": "2020-09-18T16:57:22.441534Z",
     "iopub.status.idle": "2020-09-18T16:57:22.460879Z",
     "shell.execute_reply": "2020-09-18T16:57:22.461342Z"
    },
    "papermill": {
     "duration": 0.035826,
     "end_time": "2020-09-18T16:57:22.461484",
     "exception": false,
     "start_time": "2020-09-18T16:57:22.425658",
     "status": "completed"
    },
    "tags": []
   },
   "outputs": [
    {
     "name": "stdout",
     "output_type": "stream",
     "text": [
      "<class 'pandas.core.frame.DataFrame'>\n",
      "RangeIndex: 4340 entries, 0 to 4339\n",
      "Data columns (total 8 columns):\n",
      " #   Column         Non-Null Count  Dtype \n",
      "---  ------         --------------  ----- \n",
      " 0   name           4340 non-null   object\n",
      " 1   year           4340 non-null   int64 \n",
      " 2   selling_price  4340 non-null   int64 \n",
      " 3   km_driven      4340 non-null   int64 \n",
      " 4   fuel           4340 non-null   object\n",
      " 5   seller_type    4340 non-null   object\n",
      " 6   transmission   4340 non-null   object\n",
      " 7   owner          4340 non-null   object\n",
      "dtypes: int64(3), object(5)\n",
      "memory usage: 271.4+ KB\n"
     ]
    }
   ],
   "source": [
    "cars.info()"
   ]
  },
  {
   "cell_type": "code",
   "execution_count": 6,
   "metadata": {
    "execution": {
     "iopub.execute_input": "2020-09-18T16:57:22.490618Z",
     "iopub.status.busy": "2020-09-18T16:57:22.490056Z",
     "iopub.status.idle": "2020-09-18T16:57:22.506281Z",
     "shell.execute_reply": "2020-09-18T16:57:22.505689Z"
    },
    "papermill": {
     "duration": 0.031684,
     "end_time": "2020-09-18T16:57:22.506391",
     "exception": false,
     "start_time": "2020-09-18T16:57:22.474707",
     "status": "completed"
    },
    "tags": []
   },
   "outputs": [
    {
     "data": {
      "text/html": [
       "<div>\n",
       "<style scoped>\n",
       "    .dataframe tbody tr th:only-of-type {\n",
       "        vertical-align: middle;\n",
       "    }\n",
       "\n",
       "    .dataframe tbody tr th {\n",
       "        vertical-align: top;\n",
       "    }\n",
       "\n",
       "    .dataframe thead th {\n",
       "        text-align: right;\n",
       "    }\n",
       "</style>\n",
       "<table border=\"1\" class=\"dataframe\">\n",
       "  <thead>\n",
       "    <tr style=\"text-align: right;\">\n",
       "      <th></th>\n",
       "      <th>name</th>\n",
       "      <th>year</th>\n",
       "      <th>selling_price</th>\n",
       "      <th>km_driven</th>\n",
       "      <th>fuel</th>\n",
       "      <th>seller_type</th>\n",
       "      <th>transmission</th>\n",
       "      <th>owner</th>\n",
       "    </tr>\n",
       "  </thead>\n",
       "  <tbody>\n",
       "    <tr>\n",
       "      <th>0</th>\n",
       "      <td>Maruti 800 AC</td>\n",
       "      <td>2007</td>\n",
       "      <td>60000</td>\n",
       "      <td>70000</td>\n",
       "      <td>Petrol</td>\n",
       "      <td>Individual</td>\n",
       "      <td>Manual</td>\n",
       "      <td>First Owner</td>\n",
       "    </tr>\n",
       "    <tr>\n",
       "      <th>1</th>\n",
       "      <td>Maruti Wagon R LXI Minor</td>\n",
       "      <td>2007</td>\n",
       "      <td>135000</td>\n",
       "      <td>50000</td>\n",
       "      <td>Petrol</td>\n",
       "      <td>Individual</td>\n",
       "      <td>Manual</td>\n",
       "      <td>First Owner</td>\n",
       "    </tr>\n",
       "    <tr>\n",
       "      <th>2</th>\n",
       "      <td>Hyundai Verna 1.6 SX</td>\n",
       "      <td>2012</td>\n",
       "      <td>600000</td>\n",
       "      <td>100000</td>\n",
       "      <td>Diesel</td>\n",
       "      <td>Individual</td>\n",
       "      <td>Manual</td>\n",
       "      <td>First Owner</td>\n",
       "    </tr>\n",
       "    <tr>\n",
       "      <th>3</th>\n",
       "      <td>Datsun RediGO T Option</td>\n",
       "      <td>2017</td>\n",
       "      <td>250000</td>\n",
       "      <td>46000</td>\n",
       "      <td>Petrol</td>\n",
       "      <td>Individual</td>\n",
       "      <td>Manual</td>\n",
       "      <td>First Owner</td>\n",
       "    </tr>\n",
       "    <tr>\n",
       "      <th>4</th>\n",
       "      <td>Honda Amaze VX i-DTEC</td>\n",
       "      <td>2014</td>\n",
       "      <td>450000</td>\n",
       "      <td>141000</td>\n",
       "      <td>Diesel</td>\n",
       "      <td>Individual</td>\n",
       "      <td>Manual</td>\n",
       "      <td>Second Owner</td>\n",
       "    </tr>\n",
       "    <tr>\n",
       "      <th>5</th>\n",
       "      <td>Maruti Alto LX BSIII</td>\n",
       "      <td>2007</td>\n",
       "      <td>140000</td>\n",
       "      <td>125000</td>\n",
       "      <td>Petrol</td>\n",
       "      <td>Individual</td>\n",
       "      <td>Manual</td>\n",
       "      <td>First Owner</td>\n",
       "    </tr>\n",
       "    <tr>\n",
       "      <th>6</th>\n",
       "      <td>Hyundai Xcent 1.2 Kappa S</td>\n",
       "      <td>2016</td>\n",
       "      <td>550000</td>\n",
       "      <td>25000</td>\n",
       "      <td>Petrol</td>\n",
       "      <td>Individual</td>\n",
       "      <td>Manual</td>\n",
       "      <td>First Owner</td>\n",
       "    </tr>\n",
       "    <tr>\n",
       "      <th>7</th>\n",
       "      <td>Tata Indigo Grand Petrol</td>\n",
       "      <td>2014</td>\n",
       "      <td>240000</td>\n",
       "      <td>60000</td>\n",
       "      <td>Petrol</td>\n",
       "      <td>Individual</td>\n",
       "      <td>Manual</td>\n",
       "      <td>Second Owner</td>\n",
       "    </tr>\n",
       "    <tr>\n",
       "      <th>8</th>\n",
       "      <td>Hyundai Creta 1.6 VTVT S</td>\n",
       "      <td>2015</td>\n",
       "      <td>850000</td>\n",
       "      <td>25000</td>\n",
       "      <td>Petrol</td>\n",
       "      <td>Individual</td>\n",
       "      <td>Manual</td>\n",
       "      <td>First Owner</td>\n",
       "    </tr>\n",
       "    <tr>\n",
       "      <th>9</th>\n",
       "      <td>Maruti Celerio Green VXI</td>\n",
       "      <td>2017</td>\n",
       "      <td>365000</td>\n",
       "      <td>78000</td>\n",
       "      <td>CNG</td>\n",
       "      <td>Individual</td>\n",
       "      <td>Manual</td>\n",
       "      <td>First Owner</td>\n",
       "    </tr>\n",
       "  </tbody>\n",
       "</table>\n",
       "</div>"
      ],
      "text/plain": [
       "                        name  year  selling_price  km_driven    fuel  \\\n",
       "0              Maruti 800 AC  2007          60000      70000  Petrol   \n",
       "1   Maruti Wagon R LXI Minor  2007         135000      50000  Petrol   \n",
       "2       Hyundai Verna 1.6 SX  2012         600000     100000  Diesel   \n",
       "3     Datsun RediGO T Option  2017         250000      46000  Petrol   \n",
       "4      Honda Amaze VX i-DTEC  2014         450000     141000  Diesel   \n",
       "5       Maruti Alto LX BSIII  2007         140000     125000  Petrol   \n",
       "6  Hyundai Xcent 1.2 Kappa S  2016         550000      25000  Petrol   \n",
       "7   Tata Indigo Grand Petrol  2014         240000      60000  Petrol   \n",
       "8   Hyundai Creta 1.6 VTVT S  2015         850000      25000  Petrol   \n",
       "9   Maruti Celerio Green VXI  2017         365000      78000     CNG   \n",
       "\n",
       "  seller_type transmission         owner  \n",
       "0  Individual       Manual   First Owner  \n",
       "1  Individual       Manual   First Owner  \n",
       "2  Individual       Manual   First Owner  \n",
       "3  Individual       Manual   First Owner  \n",
       "4  Individual       Manual  Second Owner  \n",
       "5  Individual       Manual   First Owner  \n",
       "6  Individual       Manual   First Owner  \n",
       "7  Individual       Manual  Second Owner  \n",
       "8  Individual       Manual   First Owner  \n",
       "9  Individual       Manual   First Owner  "
      ]
     },
     "execution_count": 6,
     "metadata": {},
     "output_type": "execute_result"
    }
   ],
   "source": [
    "cars.head(10)"
   ]
  },
  {
   "cell_type": "code",
   "execution_count": 7,
   "metadata": {
    "execution": {
     "iopub.execute_input": "2020-09-18T16:57:22.542617Z",
     "iopub.status.busy": "2020-09-18T16:57:22.542038Z",
     "iopub.status.idle": "2020-09-18T16:57:22.558142Z",
     "shell.execute_reply": "2020-09-18T16:57:22.557604Z"
    },
    "papermill": {
     "duration": 0.038377,
     "end_time": "2020-09-18T16:57:22.558244",
     "exception": false,
     "start_time": "2020-09-18T16:57:22.519867",
     "status": "completed"
    },
    "tags": []
   },
   "outputs": [
    {
     "data": {
      "text/html": [
       "<div>\n",
       "<style scoped>\n",
       "    .dataframe tbody tr th:only-of-type {\n",
       "        vertical-align: middle;\n",
       "    }\n",
       "\n",
       "    .dataframe tbody tr th {\n",
       "        vertical-align: top;\n",
       "    }\n",
       "\n",
       "    .dataframe thead th {\n",
       "        text-align: right;\n",
       "    }\n",
       "</style>\n",
       "<table border=\"1\" class=\"dataframe\">\n",
       "  <thead>\n",
       "    <tr style=\"text-align: right;\">\n",
       "      <th></th>\n",
       "      <th>year</th>\n",
       "      <th>selling_price</th>\n",
       "      <th>km_driven</th>\n",
       "    </tr>\n",
       "  </thead>\n",
       "  <tbody>\n",
       "    <tr>\n",
       "      <th>count</th>\n",
       "      <td>4340.000000</td>\n",
       "      <td>4.340000e+03</td>\n",
       "      <td>4340.000000</td>\n",
       "    </tr>\n",
       "    <tr>\n",
       "      <th>mean</th>\n",
       "      <td>2013.090783</td>\n",
       "      <td>5.041273e+05</td>\n",
       "      <td>66215.777419</td>\n",
       "    </tr>\n",
       "    <tr>\n",
       "      <th>std</th>\n",
       "      <td>4.215344</td>\n",
       "      <td>5.785487e+05</td>\n",
       "      <td>46644.102194</td>\n",
       "    </tr>\n",
       "    <tr>\n",
       "      <th>min</th>\n",
       "      <td>1992.000000</td>\n",
       "      <td>2.000000e+04</td>\n",
       "      <td>1.000000</td>\n",
       "    </tr>\n",
       "    <tr>\n",
       "      <th>25%</th>\n",
       "      <td>2011.000000</td>\n",
       "      <td>2.087498e+05</td>\n",
       "      <td>35000.000000</td>\n",
       "    </tr>\n",
       "    <tr>\n",
       "      <th>50%</th>\n",
       "      <td>2014.000000</td>\n",
       "      <td>3.500000e+05</td>\n",
       "      <td>60000.000000</td>\n",
       "    </tr>\n",
       "    <tr>\n",
       "      <th>75%</th>\n",
       "      <td>2016.000000</td>\n",
       "      <td>6.000000e+05</td>\n",
       "      <td>90000.000000</td>\n",
       "    </tr>\n",
       "    <tr>\n",
       "      <th>max</th>\n",
       "      <td>2020.000000</td>\n",
       "      <td>8.900000e+06</td>\n",
       "      <td>806599.000000</td>\n",
       "    </tr>\n",
       "  </tbody>\n",
       "</table>\n",
       "</div>"
      ],
      "text/plain": [
       "              year  selling_price      km_driven\n",
       "count  4340.000000   4.340000e+03    4340.000000\n",
       "mean   2013.090783   5.041273e+05   66215.777419\n",
       "std       4.215344   5.785487e+05   46644.102194\n",
       "min    1992.000000   2.000000e+04       1.000000\n",
       "25%    2011.000000   2.087498e+05   35000.000000\n",
       "50%    2014.000000   3.500000e+05   60000.000000\n",
       "75%    2016.000000   6.000000e+05   90000.000000\n",
       "max    2020.000000   8.900000e+06  806599.000000"
      ]
     },
     "execution_count": 7,
     "metadata": {},
     "output_type": "execute_result"
    }
   ],
   "source": [
    "cars.describe()"
   ]
  },
  {
   "cell_type": "code",
   "execution_count": 8,
   "metadata": {
    "execution": {
     "iopub.execute_input": "2020-09-18T16:57:22.590527Z",
     "iopub.status.busy": "2020-09-18T16:57:22.589959Z",
     "iopub.status.idle": "2020-09-18T16:57:22.616195Z",
     "shell.execute_reply": "2020-09-18T16:57:22.615715Z"
    },
    "papermill": {
     "duration": 0.044354,
     "end_time": "2020-09-18T16:57:22.616302",
     "exception": false,
     "start_time": "2020-09-18T16:57:22.571948",
     "status": "completed"
    },
    "tags": []
   },
   "outputs": [
    {
     "data": {
      "text/plain": [
       "count                       4340\n",
       "unique                      1491\n",
       "top       Maruti Swift Dzire VDI\n",
       "freq                          69\n",
       "Name: name, dtype: object"
      ]
     },
     "execution_count": 8,
     "metadata": {},
     "output_type": "execute_result"
    }
   ],
   "source": [
    "cars.name.describe()"
   ]
  },
  {
   "cell_type": "markdown",
   "metadata": {
    "papermill": {
     "duration": 0.014595,
     "end_time": "2020-09-18T16:57:22.645091",
     "exception": false,
     "start_time": "2020-09-18T16:57:22.630496",
     "status": "completed"
    },
    "tags": []
   },
   "source": [
    "**Data Visualization**\n",
    "* Plotting graphs to check for relations between different independent variables and the dependent variable\n",
    "* Making use of Seaborn library to plot bar graphs and regression scatter plots"
   ]
  },
  {
   "cell_type": "code",
   "execution_count": 9,
   "metadata": {
    "execution": {
     "iopub.execute_input": "2020-09-18T16:57:22.678707Z",
     "iopub.status.busy": "2020-09-18T16:57:22.678157Z",
     "iopub.status.idle": "2020-09-18T16:57:23.010547Z",
     "shell.execute_reply": "2020-09-18T16:57:23.011000Z"
    },
    "papermill": {
     "duration": 0.351098,
     "end_time": "2020-09-18T16:57:23.011151",
     "exception": false,
     "start_time": "2020-09-18T16:57:22.660053",
     "status": "completed"
    },
    "tags": []
   },
   "outputs": [
    {
     "data": {
      "text/plain": [
       "<matplotlib.axes._subplots.AxesSubplot at 0x7fdc432c8c90>"
      ]
     },
     "execution_count": 9,
     "metadata": {},
     "output_type": "execute_result"
    },
    {
     "data": {
      "image/png": "[encoded data removed]",
      "text/plain": [
       "<Figure size 720x720 with 1 Axes>"
      ]
     },
     "metadata": {
      "needs_background": "light"
     },
     "output_type": "display_data"
    }
   ],
   "source": [
    "plt.figure(figsize = (10,10))\n",
    "sns.barplot(x = 'owner', y = 'selling_price', data = cars)"
   ]
  },
  {
   "cell_type": "code",
   "execution_count": 10,
   "metadata": {
    "execution": {
     "iopub.execute_input": "2020-09-18T16:57:23.048118Z",
     "iopub.status.busy": "2020-09-18T16:57:23.047513Z",
     "iopub.status.idle": "2020-09-18T16:57:23.297993Z",
     "shell.execute_reply": "2020-09-18T16:57:23.297540Z"
    },
    "papermill": {
     "duration": 0.271611,
     "end_time": "2020-09-18T16:57:23.298133",
     "exception": false,
     "start_time": "2020-09-18T16:57:23.026522",
     "status": "completed"
    },
    "tags": []
   },
   "outputs": [
    {
     "data": {
      "text/plain": [
       "<matplotlib.axes._subplots.AxesSubplot at 0x7fdc431c6550>"
      ]
     },
     "execution_count": 10,
     "metadata": {},
     "output_type": "execute_result"
    },
    {
     "data": {
      "image/png": "[encoded data removed]",
      "text/plain": [
       "<Figure size 720x720 with 1 Axes>"
      ]
     },
     "metadata": {
      "needs_background": "light"
     },
     "output_type": "display_data"
    }
   ],
   "source": [
    "plt.figure(figsize = (10,10))\n",
    "sns.barplot(x = 'fuel', y = 'selling_price', data = cars)"
   ]
  },
  {
   "cell_type": "code",
   "execution_count": 11,
   "metadata": {
    "execution": {
     "iopub.execute_input": "2020-09-18T16:57:23.346331Z",
     "iopub.status.busy": "2020-09-18T16:57:23.343400Z",
     "iopub.status.idle": "2020-09-18T16:57:23.836637Z",
     "shell.execute_reply": "2020-09-18T16:57:23.837037Z"
    },
    "papermill": {
     "duration": 0.522477,
     "end_time": "2020-09-18T16:57:23.837200",
     "exception": false,
     "start_time": "2020-09-18T16:57:23.314723",
     "status": "completed"
    },
    "tags": []
   },
   "outputs": [
    {
     "data": {
      "text/plain": [
       "<matplotlib.axes._subplots.AxesSubplot at 0x7fdc40fcde90>"
      ]
     },
     "execution_count": 11,
     "metadata": {},
     "output_type": "execute_result"
    },
    {
     "data": {
      "image/png": "[encoded data removed]",
      "text/plain": [
       "<Figure size 720x360 with 1 Axes>"
      ]
     },
     "metadata": {
      "needs_background": "light"
     },
     "output_type": "display_data"
    }
   ],
   "source": [
    "plt.figure(figsize = (10,5))\n",
    "plt.ylim(0,700000)\n",
    "plt.xlim(0,800000)\n",
    "sns.regplot(x = 'km_driven', y = 'selling_price', data = cars, color = 'green')"
   ]
  },
  {
   "cell_type": "markdown",
   "metadata": {
    "papermill": {
     "duration": 0.018068,
     "end_time": "2020-09-18T16:57:23.873938",
     "exception": false,
     "start_time": "2020-09-18T16:57:23.855870",
     "status": "completed"
    },
    "tags": []
   },
   "source": [
    "**Model Selection and Validation**\n",
    "* Defining training and testing data\n",
    "* Importing different models from sklearn libraries implementing their functions\n",
    "* Fitting the training data into the model \n",
    "* Extracting the predicted value from the implemented model\n",
    "* Calculating the Mean Absloute Error to check how accurate the model is"
   ]
  },
  {
   "cell_type": "code",
   "execution_count": 12,
   "metadata": {
    "execution": {
     "iopub.execute_input": "2020-09-18T16:57:23.914964Z",
     "iopub.status.busy": "2020-09-18T16:57:23.914023Z",
     "iopub.status.idle": "2020-09-18T16:57:23.917844Z",
     "shell.execute_reply": "2020-09-18T16:57:23.918333Z"
    },
    "papermill": {
     "duration": 0.026319,
     "end_time": "2020-09-18T16:57:23.918464",
     "exception": false,
     "start_time": "2020-09-18T16:57:23.892145",
     "status": "completed"
    },
    "tags": []
   },
   "outputs": [],
   "source": [
    "cars_copy = cars.copy()"
   ]
  },
  {
   "cell_type": "code",
   "execution_count": 13,
   "metadata": {
    "execution": {
     "iopub.execute_input": "2020-09-18T16:57:23.957631Z",
     "iopub.status.busy": "2020-09-18T16:57:23.956999Z",
     "iopub.status.idle": "2020-09-18T16:57:23.962436Z",
     "shell.execute_reply": "2020-09-18T16:57:23.962920Z"
    },
    "papermill": {
     "duration": 0.026373,
     "end_time": "2020-09-18T16:57:23.963053",
     "exception": false,
     "start_time": "2020-09-18T16:57:23.936680",
     "status": "completed"
    },
    "tags": []
   },
   "outputs": [
    {
     "name": "stdout",
     "output_type": "stream",
     "text": [
      "['name', 'fuel', 'seller_type', 'transmission', 'owner']\n"
     ]
    }
   ],
   "source": [
    "lst = (cars_copy.dtypes == 'object')\n",
    "object_col = list(lst[lst].index)\n",
    "print(object_col)"
   ]
  },
  {
   "cell_type": "code",
   "execution_count": 14,
   "metadata": {
    "execution": {
     "iopub.execute_input": "2020-09-18T16:57:24.004693Z",
     "iopub.status.busy": "2020-09-18T16:57:24.004028Z",
     "iopub.status.idle": "2020-09-18T16:57:24.069758Z",
     "shell.execute_reply": "2020-09-18T16:57:24.069091Z"
    },
    "papermill": {
     "duration": 0.088433,
     "end_time": "2020-09-18T16:57:24.069862",
     "exception": false,
     "start_time": "2020-09-18T16:57:23.981429",
     "status": "completed"
    },
    "tags": []
   },
   "outputs": [],
   "source": [
    "from sklearn.preprocessing import LabelEncoder\n",
    "\n",
    "encoder = LabelEncoder()\n",
    "for col in object_col:\n",
    "    cars_copy[col] = encoder.fit_transform(cars_copy[col])"
   ]
  },
  {
   "cell_type": "code",
   "execution_count": 15,
   "metadata": {
    "execution": {
     "iopub.execute_input": "2020-09-18T16:57:24.108841Z",
     "iopub.status.busy": "2020-09-18T16:57:24.108308Z",
     "iopub.status.idle": "2020-09-18T16:57:24.113501Z",
     "shell.execute_reply": "2020-09-18T16:57:24.113939Z"
    },
    "papermill": {
     "duration": 0.02597,
     "end_time": "2020-09-18T16:57:24.114061",
     "exception": false,
     "start_time": "2020-09-18T16:57:24.088091",
     "status": "completed"
    },
    "tags": []
   },
   "outputs": [],
   "source": [
    "attributes = ['name','year', 'km_driven', 'fuel', 'seller_type',\n",
    "       'transmission', 'owner']\n",
    "X = cars_copy[attributes]\n",
    "y = cars_copy.selling_price"
   ]
  },
  {
   "cell_type": "code",
   "execution_count": 16,
   "metadata": {
    "execution": {
     "iopub.execute_input": "2020-09-18T16:57:24.154472Z",
     "iopub.status.busy": "2020-09-18T16:57:24.153865Z",
     "iopub.status.idle": "2020-09-18T16:57:24.213288Z",
     "shell.execute_reply": "2020-09-18T16:57:24.212719Z"
    },
    "papermill": {
     "duration": 0.080677,
     "end_time": "2020-09-18T16:57:24.213408",
     "exception": false,
     "start_time": "2020-09-18T16:57:24.132731",
     "status": "completed"
    },
    "tags": []
   },
   "outputs": [],
   "source": [
    "from sklearn.model_selection import train_test_split\n",
    "X_train, X_valid, y_train, y_valid = train_test_split(X, y, test_size = 0.6, random_state = 0)"
   ]
  },
  {
   "cell_type": "code",
   "execution_count": 17,
   "metadata": {
    "execution": {
     "iopub.execute_input": "2020-09-18T16:57:24.256840Z",
     "iopub.status.busy": "2020-09-18T16:57:24.256236Z",
     "iopub.status.idle": "2020-09-18T16:57:24.421115Z",
     "shell.execute_reply": "2020-09-18T16:57:24.420278Z"
    },
    "papermill": {
     "duration": 0.188158,
     "end_time": "2020-09-18T16:57:24.421252",
     "exception": false,
     "start_time": "2020-09-18T16:57:24.233094",
     "status": "completed"
    },
    "tags": []
   },
   "outputs": [
    {
     "name": "stdout",
     "output_type": "stream",
     "text": [
      "-71630869.59988928\n",
      "[-6.00776026e+01  3.63947020e+04 -6.56700224e-01 -9.93829283e+04\n",
      " -3.59802631e+04 -8.44508278e+05 -2.26649579e+04]\n"
     ]
    }
   ],
   "source": [
    "from sklearn.linear_model import LinearRegression\n",
    "\n",
    "regressor = LinearRegression()\n",
    "regressor.fit(X_train,y_train)\n",
    "\n",
    "print(regressor.intercept_)\n",
    "print(regressor.coef_)"
   ]
  },
  {
   "cell_type": "code",
   "execution_count": 18,
   "metadata": {
    "execution": {
     "iopub.execute_input": "2020-09-18T16:57:24.472618Z",
     "iopub.status.busy": "2020-09-18T16:57:24.471803Z",
     "iopub.status.idle": "2020-09-18T16:57:24.479950Z",
     "shell.execute_reply": "2020-09-18T16:57:24.479319Z"
    },
    "papermill": {
     "duration": 0.033852,
     "end_time": "2020-09-18T16:57:24.480089",
     "exception": false,
     "start_time": "2020-09-18T16:57:24.446237",
     "status": "completed"
    },
    "tags": []
   },
   "outputs": [
    {
     "name": "stdout",
     "output_type": "stream",
     "text": [
      "[1418211.91519161 1475445.81355424  165184.46647356 ...  512633.08892478\n",
      "  492126.94509409  711928.31774773]\n",
      "2089     465000\n",
      "1077    1580000\n",
      "1495     150000\n",
      "555     4950000\n",
      "2615     125000\n",
      "         ...   \n",
      "4022     200000\n",
      "2053     150000\n",
      "55       401000\n",
      "3462     300000\n",
      "1677     500000\n",
      "Name: selling_price, Length: 2604, dtype: int64\n"
     ]
    }
   ],
   "source": [
    "y_pred = regressor.predict(X_valid)\n",
    "print(y_pred)\n",
    "print(y_valid)"
   ]
  },
  {
   "cell_type": "code",
   "execution_count": 19,
   "metadata": {
    "execution": {
     "iopub.execute_input": "2020-09-18T16:57:24.530779Z",
     "iopub.status.busy": "2020-09-18T16:57:24.529800Z",
     "iopub.status.idle": "2020-09-18T16:57:24.533727Z",
     "shell.execute_reply": "2020-09-18T16:57:24.534280Z"
    },
    "papermill": {
     "duration": 0.029193,
     "end_time": "2020-09-18T16:57:24.534409",
     "exception": false,
     "start_time": "2020-09-18T16:57:24.505216",
     "status": "completed"
    },
    "tags": []
   },
   "outputs": [
    {
     "name": "stdout",
     "output_type": "stream",
     "text": [
      "232703.11594191624\n"
     ]
    }
   ],
   "source": [
    "from sklearn.metrics import mean_absolute_error\n",
    "print(mean_absolute_error(y_valid, y_pred))"
   ]
  },
  {
   "cell_type": "code",
   "execution_count": 20,
   "metadata": {
    "execution": {
     "iopub.execute_input": "2020-09-18T16:57:24.578005Z",
     "iopub.status.busy": "2020-09-18T16:57:24.577023Z",
     "iopub.status.idle": "2020-09-18T16:57:24.687625Z",
     "shell.execute_reply": "2020-09-18T16:57:24.688421Z"
    },
    "papermill": {
     "duration": 0.134405,
     "end_time": "2020-09-18T16:57:24.688616",
     "exception": false,
     "start_time": "2020-09-18T16:57:24.554211",
     "status": "completed"
    },
    "tags": []
   },
   "outputs": [
    {
     "name": "stdout",
     "output_type": "stream",
     "text": [
      "157809.3256210978\n"
     ]
    }
   ],
   "source": [
    "from sklearn.tree import DecisionTreeRegressor\n",
    "tree = DecisionTreeRegressor(max_leaf_nodes = 700, random_state = 0)\n",
    "tree.fit(X_train,y_train)\n",
    "tree_y_pred = tree.predict(X_valid)\n",
    "tree_y_pred\n",
    "print(mean_absolute_error(y_valid,tree_y_pred))"
   ]
  },
  {
   "cell_type": "code",
   "execution_count": 21,
   "metadata": {
    "execution": {
     "iopub.execute_input": "2020-09-18T16:57:24.733424Z",
     "iopub.status.busy": "2020-09-18T16:57:24.732504Z",
     "iopub.status.idle": "2020-09-18T16:57:25.274866Z",
     "shell.execute_reply": "2020-09-18T16:57:25.275506Z"
    },
    "papermill": {
     "duration": 0.565776,
     "end_time": "2020-09-18T16:57:25.275699",
     "exception": false,
     "start_time": "2020-09-18T16:57:24.709923",
     "status": "completed"
    },
    "tags": []
   },
   "outputs": [
    {
     "name": "stdout",
     "output_type": "stream",
     "text": [
      "124937.86532712038\n"
     ]
    }
   ],
   "source": [
    "from sklearn.ensemble import RandomForestRegressor\n",
    "forest = RandomForestRegressor(random_state=1)\n",
    "forest.fit(X_train, y_train)\n",
    "forest_y = forest.predict(X_valid)\n",
    "print(mean_absolute_error(y_valid, forest_y))"
   ]
  },
  {
   "cell_type": "markdown",
   "metadata": {
    "papermill": {
     "duration": 0.019964,
     "end_time": "2020-09-18T16:57:25.316382",
     "exception": false,
     "start_time": "2020-09-18T16:57:25.296418",
     "status": "completed"
    },
    "tags": []
   },
   "source": [
    "In conclusion, \n",
    "* Linear Regression Model predicted prices with a mean error of ₹ 232,520.78\n",
    "* Decision Tree Model predicted prices with a mean error of ₹157,809.32\n",
    "* Random Forest Regressor Model predicted prices with a mean error of ₹124,937.86\n",
    "\n",
    "I know, these are predictions are way off, I am a beginner at Machine Learning. If you are reading this and know a way of improving the results by, please do reach out to me."
   ]
  },
  {
   "cell_type": "markdown",
   "metadata": {
    "papermill": {
     "duration": 0.019819,
     "end_time": "2020-09-18T16:57:25.356457",
     "exception": false,
     "start_time": "2020-09-18T16:57:25.336638",
     "status": "completed"
    },
    "tags": []
   },
   "source": [
    "**THANK YOU!** "
   ]
  }
 ],
 "metadata": {
  "kernelspec": {
   "display_name": "Python 3",
   "language": "python",
   "name": "python3"
  },
  "language_info": {
   "codemirror_mode": {
    "name": "ipython",
    "version": 3
   },
   "file_extension": ".py",
   "mimetype": "text/x-python",
   "name": "python",
   "nbconvert_exporter": "python",
   "pygments_lexer": "ipython3",
   "version": "3.7.6"
  },
  "papermill": {
   "duration": 8.459562,
   "end_time": "2020-09-18T16:57:25.483820",
   "environment_variables": {},
   "exception": null,
   "input_path": "__notebook__.ipynb",
   "output_path": "__notebook__.ipynb",
   "parameters": {},
   "start_time": "2020-09-18T16:57:17.024258",
   "version": "2.1.0"
  }
 },
 "nbformat": 4,
 "nbformat_minor": 4
}
